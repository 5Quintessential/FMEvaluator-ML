{
 "cells": [
  {
   "cell_type": "code",
   "execution_count": 14,
   "metadata": {},
   "outputs": [],
   "source": [
    "from sklearn.metrics import confusion_matrix \n",
    "from sklearn.metrics import accuracy_score \n",
    "from sklearn.metrics import classification_report \n",
    "from sklearn.metrics import roc_auc_score\n",
    "from sklearn.model_selection import train_test_split\n",
    "from sklearn.linear_model import LogisticRegression\n",
    "from sklearn import metrics\n",
    "import matplotlib.pyplot as plt\n",
    "import numpy as np\n",
    "import pandas as pd\n",
    "import math"
   ]
  },
  {
   "cell_type": "code",
   "execution_count": 109,
   "metadata": {},
   "outputs": [],
   "source": [
    "studyName = 'bcms' # eshop, bcms , crypto, suv"
   ]
  },
  {
   "cell_type": "code",
   "execution_count": 115,
   "metadata": {},
   "outputs": [
    {
     "data": {
      "text/html": [
       "<div>\n",
       "<style scoped>\n",
       "    .dataframe tbody tr th:only-of-type {\n",
       "        vertical-align: middle;\n",
       "    }\n",
       "\n",
       "    .dataframe tbody tr th {\n",
       "        vertical-align: top;\n",
       "    }\n",
       "\n",
       "    .dataframe thead th {\n",
       "        text-align: right;\n",
       "    }\n",
       "</style>\n",
       "<table border=\"1\" class=\"dataframe\">\n",
       "  <thead>\n",
       "    <tr style=\"text-align: right;\">\n",
       "      <th>Predicted</th>\n",
       "      <th>0</th>\n",
       "      <th>1</th>\n",
       "    </tr>\n",
       "    <tr>\n",
       "      <th>Actual</th>\n",
       "      <th></th>\n",
       "      <th></th>\n",
       "    </tr>\n",
       "  </thead>\n",
       "  <tbody>\n",
       "    <tr>\n",
       "      <td>0</td>\n",
       "      <td>0.835664</td>\n",
       "      <td>0.034965</td>\n",
       "    </tr>\n",
       "    <tr>\n",
       "      <td>1</td>\n",
       "      <td>0.108392</td>\n",
       "      <td>0.020979</td>\n",
       "    </tr>\n",
       "  </tbody>\n",
       "</table>\n",
       "</div>"
      ],
      "text/plain": [
       "Predicted         0         1\n",
       "Actual                       \n",
       "0          0.835664  0.034965\n",
       "1          0.108392  0.020979"
      ]
     },
     "execution_count": 115,
     "metadata": {},
     "output_type": "execute_result"
    }
   ],
   "source": [
    "regr_data = pd.read_csv(studyName + '_regressionData.csv')\n",
    "data_X_train, data_X_test, data_Y_train, data_Y_test =train_test_split(regr_data.drop(['Feature'],axis=1),regr_data['Feature'], test_size=0.2,random_state=43)\n",
    "\n",
    "reg = LogisticRegression(solver='lbfgs')\n",
    "pd.options.display.max_rows = None\n",
    "reg.fit(data_X_train, data_Y_train)\n",
    "y_pred = reg.predict(data_X_test)\n",
    "y_pred_proba = reg.predict_proba(data_X_test)[::,1]\n",
    "\n",
    "cut_off = 0.2\n",
    "\n",
    "actual = data_Y_test\n",
    "predicted1 = np.transpose(y_pred_proba)\n",
    "predicted2 = predicted1 > cut_off\n",
    "predicted = predicted2.astype(int)\n",
    "#print(predicted)\n",
    "#print(predicted.shape)\n",
    "#print(data_Y_test.shape)\n",
    "pd.crosstab(data_Y_test, predicted, rownames =['Actual'], colnames=['Predicted'])/data_Y_test.shape[0]"
   ]
  },
  {
   "cell_type": "code",
   "execution_count": 116,
   "metadata": {},
   "outputs": [
    {
     "name": "stdout",
     "output_type": "stream",
     "text": [
      "Confusion Matrix :\n",
      "[[239  10]\n",
      " [ 31   6]]\n",
      "Accuracy Score : 0.8566433566433567\n",
      "Report : \n",
      "              precision    recall  f1-score   support\n",
      "\n",
      "           0       0.89      0.96      0.92       249\n",
      "           1       0.38      0.16      0.23        37\n",
      "\n",
      "   micro avg       0.86      0.86      0.86       286\n",
      "   macro avg       0.63      0.56      0.57       286\n",
      "weighted avg       0.82      0.86      0.83       286\n",
      "\n"
     ]
    },
    {
     "data": {
      "text/plain": [
       "0.5610007597959406"
      ]
     },
     "execution_count": 116,
     "metadata": {},
     "output_type": "execute_result"
    }
   ],
   "source": [
    "results = confusion_matrix(actual, predicted) \n",
    "  \n",
    "print('Confusion Matrix :')\n",
    "print(results) \n",
    "print('Accuracy Score :',accuracy_score(actual, predicted))\n",
    "print('Report : ')\n",
    "print(classification_report(actual, predicted))\n",
    "roc_auc_score(actual, predicted)"
   ]
  },
  {
   "cell_type": "code",
   "execution_count": 117,
   "metadata": {},
   "outputs": [
    {
     "data": {
      "image/png": "[encoded data removed]",
      "text/plain": [
       "<Figure size 432x288 with 1 Axes>"
      ]
     },
     "metadata": {
      "needs_background": "light"
     },
     "output_type": "display_data"
    }
   ],
   "source": [
    "y_pred_proba = reg.predict_proba(data_X_test)[::,1]\n",
    "fpr, tpr, _ = metrics.roc_curve(data_Y_test,  y_pred_proba)\n",
    "auc = metrics.roc_auc_score(data_Y_test, y_pred_proba)\n",
    "plt.plot(fpr,tpr,label=\"data 1, auc=\"+str(auc))\n",
    "plt.plot(fpr,fpr, linestyle='--',color='k')\n",
    "plt.legend(loc=4)\n",
    "plt.xlabel('False Positive Rate')\n",
    "plt.ylabel('True Positive Rate')\n",
    "plt.show()"
   ]
  },
  {
   "cell_type": "code",
   "execution_count": null,
   "metadata": {},
   "outputs": [],
   "source": []
  }
 ],
 "metadata": {
  "kernelspec": {
   "display_name": "Python 3",
   "language": "python",
   "name": "python3"
  },
  "language_info": {
   "codemirror_mode": {
    "name": "ipython",
    "version": 3
   },
   "file_extension": ".py",
   "mimetype": "text/x-python",
   "name": "python",
   "nbconvert_exporter": "python",
   "pygments_lexer": "ipython3",
   "version": "3.7.1"
  }
 },
 "nbformat": 4,
 "nbformat_minor": 2
}
