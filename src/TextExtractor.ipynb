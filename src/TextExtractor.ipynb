{
 "cells": [
  {
   "cell_type": "code",
   "execution_count": null,
   "metadata": {},
   "outputs": [],
   "source": [
    "# import libraries"
   ]
  },
  {
   "cell_type": "code",
   "execution_count": 1,
   "metadata": {},
   "outputs": [],
   "source": [
    "class TextExtractor:\n",
    "    \n",
    "    filepath = ''                   # Corpus file path\n",
    "    filerange = ''                  # Page range\n",
    "    corpusname = ''                 # Name of the corpus to append with filename\n",
    "    \n",
    "    def __init__(self, pathinfo, rangeinfo, corpusname):\n",
    "        self.filepath=pathinfo\n",
    "        self.filerange=rangeinfo\n",
    "        self.corpusname = corpusname\n",
    "        \n",
    "        if not os.path.exists(corpusname+'.txt'):\n",
    "            rsrcmgr = PDFResourceManager()\n",
    "            retstr = StringIO()\n",
    "            codec = 'utf-8'\n",
    "            laparams = LAParams()\n",
    "            device = TextConverter(rsrcmgr, retstr, codec=codec, laparams=laparams)\n",
    "            fp = file(self.filepath, 'rb')\n",
    "            interpreter = PDFPageInterpreter(rsrcmgr, device)\n",
    "            password = \"\"\n",
    "            maxpages = 0\n",
    "            caching = True\n",
    "            indexes = [int(n) for n in self.filerange.split('-')]\n",
    "            pagenos=set(range(indexes[0],indexes[1]))\n",
    "\n",
    "            for page in PDFPage.get_pages(fp, pagenos, maxpages=maxpages, password=password,caching=caching, check_extractable=True):\n",
    "                interpreter.process_page(page)\n",
    "\n",
    "            text = retstr.getvalue()\n",
    "            with open(corpusname+'.txt','a') as tt:\n",
    "                tt.write(text)\n",
    "            fp.close()\n",
    "            device.close()\n",
    "            retstr.close()\n",
    "            return text\n",
    "        else:\n",
    "            with open(corpusname+\".txt\",\"r\") as ct:\n",
    "                return ct.read()"
   ]
  },
  {
   "cell_type": "code",
   "execution_count": null,
   "metadata": {},
   "outputs": [],
   "source": []
  }
 ],
 "metadata": {
  "kernelspec": {
   "display_name": "Python 3",
   "language": "python",
   "name": "python3"
  },
  "language_info": {
   "codemirror_mode": {
    "name": "ipython",
    "version": 3
   },
   "file_extension": ".py",
   "mimetype": "text/x-python",
   "name": "python",
   "nbconvert_exporter": "python",
   "pygments_lexer": "ipython3",
   "version": "3.7.1"
  }
 },
 "nbformat": 4,
 "nbformat_minor": 2
}
