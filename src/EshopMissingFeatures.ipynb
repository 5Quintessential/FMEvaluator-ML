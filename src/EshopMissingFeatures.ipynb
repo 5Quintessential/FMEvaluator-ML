{
 "cells": [
  {
   "cell_type": "code",
   "execution_count": 38,
   "metadata": {},
   "outputs": [],
   "source": [
    "import math\n",
    "import numpy as np"
   ]
  },
  {
   "cell_type": "code",
   "execution_count": 39,
   "metadata": {},
   "outputs": [],
   "source": [
    "# read the FM for Eshop\n",
    "evaluatedFM = open(\"FX-Eshop-FM.txt\",\"r\")\n",
    "evaluatedFM = evaluatedFM.readlines()"
   ]
  },
  {
   "cell_type": "code",
   "execution_count": 40,
   "metadata": {},
   "outputs": [
    {
     "name": "stdout",
     "output_type": "stream",
     "text": [
      "148\n",
      "148\n"
     ]
    }
   ],
   "source": [
    "# Find all mandatory features from the ML model\n",
    "allFeatures = ['system verifies', 'purchase', 'payments details', 'supplier confirms', 'purchase', 'system asks', 'shipment details', 'system supports paying', 'credit cards', 'customer pays', 'credit card', 'system approves', 'payment', 'contacting', 'credit card company', 'system completes recording', 'order', 'supplier', 'ship', 'products', 'customer', 'system sends', 'shipping documents', 'email', 'system finalizes', 'software order details', 'supplier ships', 'product', 'email', 'system sends', 'shipping documents', 'system supports', 'shipping options', 'customer buys', 'product', 'system supports', 'mail shipping', 'system displays', 'products', 'customer buys', 'product', 'system updates', 'inventory', 'system supports paying', 'gift cards', 'customer pays', 'gift card', 'system supports', 'land shipping', 'customer', 'track', 'purchase status', 'system provides details', 'product delivery status', 'system presents', 'product return page', 'customer returns', 'product', 'system updates', 'inventory', 'system presents', 'product page', 'supplier enters', 'products', 'system updates', 'catalog', 'system enables customers writing reviews', 'products', 'customer reviews', 'product', 'system sends', 'product review', 'supplier', 'supplier receives', 'products', 'enters', 'products', 'system', 'system updates', 'catalog', 'system presents', 'products list', 'customer', 'purchase', 'product', 'system updates', 'shopping cart', 'system presents', 'page', 'customer purchases', 'product', 'system updates', 'inventory', 'system finalizes', 'software order details', 'supplier ships', 'product', 'email', 'system updates', 'product delivery status', 'system validates purchase details', 'supplier confirms', 'purchase', 'system clears', 'shopping cart', 'system supports paying', 'paypal', 'customer pays', 'paypal', 'system verifies', 'payment information', 'system provide tracking options', 'customer tracks', 'product', 'order status', 'system presents', 'shipment details', 'system', 'handle product return', 'customer returns', 'product', 'system sends', 'review', 'product', 'supplier', 'system allows canceling', 'order', 'customer cancels', 'order', 'been shipped', 'system refunds', 'payment', 'system allows canceling', 'order', 'customer cancels', 'order', 'been shipped', 'system updates', 'payment', 'including', 'goods return impact', 'system', 'maintain product reviews', 'customer reviews', 'product', 'system stores', 'product review', 'product category']\n",
    "relScoresFeatures = [0.7121212121212122, 0.7272727272727273, 0.7424242424242424, 0.7575757575757576, 0.7727272727272727, 0.7878787878787878, 0.803030303030303, 0.8181818181818181, 0.8333333333333334, 0.8484848484848485, 0.8636363636363636, 0.8787878787878788, 0.8939393939393939, 0.9090909090909091, 0.9242424242424242, 0.9393939393939394, 0.9545454545454546, 0.9696969696969697, 0.9848484848484849, 1.0, 0.9848484848484849, 0.9696969696969697, 0.9545454545454546, 0.9393939393939394, 0.9242424242424242, 0.9090909090909091, 0.8939393939393939, 0.8787878787878788, 0.8636363636363636, 0.8636363636363636, 0.8787878787878788, 0.8939393939393939, 0.9090909090909091, 0.9242424242424242, 0.9393939393939394, 0.9545454545454546, 0.9696969696969697, 0.9848484848484849, 1.0, 0.9848484848484849, 0.9696969696969697, 0.9545454545454546, 0.9393939393939394, 0.9242424242424242, 0.9090909090909091, 0.8939393939393939, 0.8787878787878788, 0.8636363636363636, 0.8484848484848485, 0.8333333333333334, 0.8181818181818181, 0.8181818181818181, 0.8333333333333334, 0.8484848484848485, 0.8636363636363636, 0.8787878787878788, 0.8939393939393939, 0.9090909090909091, 0.9242424242424242, 0.9393939393939394, 0.9545454545454546, 0.9696969696969697, 0.9848484848484849, 1.0, 0.9848484848484849, 0.9696969696969697, 0.9848484848484849, 1.0, 0.9848484848484849, 0.9696969696969697, 0.9545454545454546, 0.9545454545454546, 0.9696969696969697, 0.9848484848484849, 1.0, 0.9848484848484849, 1.0, 0.9848484848484849, 0.9696969696969697, 0.9696969696969697, 0.9848484848484849, 1.0, 0.9848484848484849, 0.9696969696969697, 0.9545454545454546, 0.9393939393939394, 0.9242424242424242, 0.9090909090909091, 0.8939393939393939, 0.8787878787878788, 0.8636363636363636, 0.8484848484848485, 0.8333333333333334, 0.8181818181818181, 0.803030303030303, 0.7878787878787878, 0.7727272727272727, 0.7575757575757576, 0.7424242424242424, 0.7272727272727273, 0.7121212121212122, 0.696969696969697, 0.6818181818181819, 0.6666666666666667, 0.6515151515151515, 0.6363636363636364, 0.6212121212121212, 0.6060606060606061, 0.5909090909090908, 0.5757575757575757, 0.5606060606060606, 0.5454545454545454, 0.5303030303030303, 0.5151515151515151, 0.5, 0.48484848484848486, 0.4696969696969697, 0.4545454545454546, 0.43939393939393945, 0.4242424242424242, 0.40909090909090906, 0.3939393939393939, 0.3787878787878788, 0.36363636363636365, 0.3484848484848485, 0.33333333333333337, 0.31818181818181823, 0.303030303030303, 0.28787878787878785, 0.2727272727272727, 0.25757575757575757, 0.24242424242424243, 0.2272727272727273, 0.21212121212121215, 0.19696969696969702, 0.18181818181818177, 0.16666666666666663, 0.1515151515151515, 0.13636363636363635, 0.12121212121212122, 0.10606060606060608, 0.09090909090909094, 0.0757575757575758, 0.06060606060606055, 0.045454545454545414, 0.030303030303030276, 0.015151515151515138, 0.0]\n",
    "print(len(allFeatures))\n",
    "print(len(relScoresFeatures))\n",
    "allTags = [('after', 'IN'), ('the', 'DT'), ('system', 'NN'), ('verifies', 'VBZ'), ('the', 'DT'), ('purchase', 'NN'), (\"'s\", 'POS'), ('payments', 'NNS'), ('details', 'NNS'), (',', ','), ('the', 'DT'), ('supplier', 'NN'), ('confirms', 'VBZ'), ('the', 'DT'), ('purchase', 'NN'), ('.', '.'), ('the', 'DT'), ('system', 'NN'), ('asks', 'VBZ'), ('for', 'IN'), ('shipment', 'NN'), ('details', 'NNS'), ('.', '.'), ('the', 'DT'), ('system', 'NN'), ('supports', 'VBZ'), ('paying', 'VBG'), ('with', 'IN'), ('credit', 'NN'), ('cards', 'NNS'), ('.', '.'), ('if', 'IN'), ('a', 'DT'), ('customer', 'NN'), ('pays', 'VBZ'), ('with', 'IN'), ('a', 'DT'), ('credit', 'NN'), ('card', 'NN'), (',', ','), ('the', 'DT'), ('system', 'NN'), ('approves', 'VBZ'), ('first', 'RB'), ('the', 'DT'), ('payment', 'NN'), ('by', 'IN'), ('contacting', 'VBG'), ('the', 'DT'), ('credit', 'NN'), ('card', 'NN'), ('company', 'NN'), ('.', '.'), ('when', 'WRB'), ('the', 'DT'), ('system', 'NN'), ('completes', 'VBZ'), ('recording', 'VBG'), ('an', 'DT'), ('order', 'NN'), (',', ','), ('the', 'DT'), ('supplier', 'NN'), ('can', 'MD'), ('ship', 'VB'), ('the', 'DT'), ('ordered', 'JJ'), ('products', 'NNS'), ('to', 'TO'), ('the', 'DT'), ('customer', 'NN'), ('.', '.'), ('the', 'DT'), ('system', 'NN'), ('sends', 'VBZ'), ('the', 'DT'), ('shipping', 'NN'), ('documents', 'NNS'), ('via', 'IN'), ('email', 'NN'), ('.', '.'), ('when', 'WRB'), ('the', 'DT'), ('system', 'NN'), ('finalizes', 'VBZ'), ('a', 'DT'), ('software', 'NN'), ('order', 'NN'), ('details', 'NNS'), (',', ','), ('the', 'DT'), ('supplier', 'NN'), ('ships', 'VBZ'), ('the', 'DT'), ('ordered', 'JJ'), ('product', 'NN'), ('via', 'IN'), ('email', 'NN'), ('.', '.'), ('the', 'DT'), ('system', 'NN'), ('sends', 'VBZ'), ('the', 'DT'), ('shipping', 'NN'), ('documents', 'NNS'), ('.', '.'), ('the', 'DT'), ('system', 'NN'), ('supports', 'VBZ'), ('different', 'JJ'), ('shipping', 'NN'), ('options', 'NNS'), ('.', '.'), ('however', 'RB'), (',', ','), ('if', 'IN'), ('a', 'DT'), ('customer', 'NN'), ('buys', 'VBZ'), ('a', 'DT'), ('very', 'RB'), ('small', 'JJ'), ('product', 'NN'), (',', ','), ('the', 'DT'), ('system', 'NN'), ('supports', 'VBZ'), ('only', 'RB'), ('air', 'JJ'), ('mail', 'NN'), ('shipping', 'NN'), ('.', '.'), ('the', 'DT'), ('system', 'NN'), ('displays', 'VBZ'), ('the', 'DT'), ('available', 'JJ'), ('products', 'NNS'), ('.', '.'), ('when', 'WRB'), ('a', 'DT'), ('registered', 'JJ'), ('customer', 'NN'), ('buys', 'VBZ'), ('a', 'DT'), ('product', 'NN'), (',', ','), ('the', 'DT'), ('system', 'NN'), ('updates', 'VBZ'), ('the', 'DT'), ('inventory', 'NN'), ('.', '.'), ('the', 'DT'), ('system', 'NN'), ('supports', 'VBZ'), ('paying', 'VBG'), ('with', 'IN'), ('gift', 'NN'), ('cards', 'NNS'), ('.', '.'), ('if', 'IN'), ('a', 'DT'), ('customer', 'NN'), ('pays', 'VBZ'), ('with', 'IN'), ('a', 'DT'), ('gift', 'NN'), ('card', 'NN'), (',', ','), ('the', 'DT'), ('system', 'NN'), ('supports', 'VBZ'), ('only', 'RB'), ('land', 'NN'), ('shipping', 'NN'), ('.', '.'), ('a', 'DT'), ('customer', 'NN'), ('can', 'MD'), ('track', 'VB'), ('the', 'DT'), ('purchase', 'NN'), ('status', 'NN'), ('.', '.'), ('the', 'DT'), ('system', 'NN'), ('provides', 'VBZ'), ('details', 'NNS'), ('on', 'IN'), ('the', 'DT'), ('product', 'NN'), ('delivery', 'NN'), ('status', 'NN'), ('.', '.'), ('the', 'DT'), ('system', 'NN'), ('presents', 'VBZ'), ('the', 'DT'), ('product', 'NN'), ('return', 'NN'), ('page', 'NN'), ('.', '.'), ('if', 'IN'), ('the', 'DT'), ('customer', 'NN'), ('returns', 'VBZ'), ('a', 'DT'), ('product', 'NN'), (',', ','), ('the', 'DT'), ('system', 'NN'), ('updates', 'VBZ'), ('the', 'DT'), ('inventory', 'NN'), ('.', '.'), ('the', 'DT'), ('system', 'NN'), ('presents', 'VBZ'), ('the', 'DT'), ('product', 'NN'), ('page', 'NN'), ('.', '.'), ('when', 'WRB'), ('a', 'DT'), ('supplier', 'NN'), ('enters', 'VBZ'), ('new', 'JJ'), ('products', 'NNS'), (',', ','), ('the', 'DT'), ('system', 'NN'), ('updates', 'VBZ'), ('the', 'DT'), ('catalog', 'NN'), ('.', '.'), ('the', 'DT'), ('system', 'NN'), ('enables', 'VBZ'), ('customers', 'NNS'), ('writing', 'VBG'), ('reviews', 'NNS'), ('on', 'IN'), ('products', 'NNS'), ('.', '.'), ('when', 'WRB'), ('a', 'DT'), ('customer', 'NN'), ('reviews', 'VBZ'), ('a', 'DT'), ('product', 'NN'), (',', ','), ('the', 'DT'), ('system', 'NN'), ('sends', 'VBZ'), ('the', 'DT'), ('product', 'NN'), ('review', 'NN'), ('to', 'TO'), ('the', 'DT'), ('relevant', 'JJ'), ('supplier', 'NN'), ('.', '.'), ('when', 'WRB'), ('a', 'DT'), ('supplier', 'NN'), ('receives', 'VBZ'), ('new', 'JJ'), ('products', 'NNS'), (',', ','), ('he', 'PRP'), ('enters', 'VBZ'), ('the', 'DT'), ('new', 'JJ'), ('products', 'NNS'), ('to', 'TO'), ('the', 'DT'), ('system', 'NN'), ('.', '.'), ('the', 'DT'), ('system', 'NN'), ('updates', 'VBZ'), ('the', 'DT'), ('catalog', 'NN'), ('.', '.'), ('when', 'WRB'), ('the', 'DT'), ('system', 'NN'), ('presents', 'VBZ'), ('the', 'DT'), ('available', 'JJ'), ('products', 'NNS'), ('list', 'NN'), (',', ','), ('a', 'DT'), ('customer', 'NN'), ('can', 'MD'), ('purchase', 'VB'), ('a', 'DT'), ('product', 'NN'), ('.', '.'), ('the', 'DT'), ('system', 'NN'), ('updates', 'VBZ'), ('the', 'DT'), ('shopping', 'NN'), ('cart', 'NN'), ('.', '.'), ('the', 'DT'), ('system', 'NN'), ('presents', 'VBZ'), ('the', 'DT'), ('ordering', 'JJ'), ('page', 'NN'), ('.', '.'), ('if', 'IN'), ('a', 'DT'), ('customer', 'NN'), ('purchases', 'NNS'), ('a', 'DT'), ('product', 'NN'), (',', ','), ('the', 'DT'), ('system', 'NN'), ('updates', 'VBZ'), ('the', 'DT'), ('inventory', 'NN'), ('.', '.'), ('when', 'WRB'), ('the', 'DT'), ('system', 'NN'), ('finalizes', 'VBZ'), ('a', 'DT'), ('software', 'NN'), ('order', 'NN'), ('details', 'NNS'), (',', ','), ('the', 'DT'), ('supplier', 'NN'), ('ships', 'VBZ'), ('the', 'DT'), ('ordered', 'JJ'), ('product', 'NN'), ('via', 'IN'), ('email', 'NN'), ('.', '.'), ('the', 'DT'), ('system', 'NN'), ('updates', 'VBZ'), ('the', 'DT'), ('product', 'NN'), ('delivery', 'NN'), ('status', 'NN'), ('.', '.'), ('when', 'WRB'), ('the', 'DT'), ('system', 'NN'), ('validates', 'VBZ'), ('purchase', 'NN'), ('details', 'NNS'), (',', ','), ('the', 'DT'), ('supplier', 'NN'), ('confirms', 'VBZ'), ('the', 'DT'), ('purchase', 'NN'), ('.', '.'), ('the', 'DT'), ('system', 'NN'), ('clears', 'VBZ'), ('the', 'DT'), ('shopping', 'NN'), ('cart', 'NN'), ('.', '.'), ('the', 'DT'), ('system', 'NN'), ('supports', 'VBZ'), ('paying', 'VBG'), ('with', 'IN'), ('paypal', 'NN'), ('.', '.'), ('if', 'IN'), ('a', 'DT'), ('customer', 'NN'), ('pays', 'VBZ'), ('with', 'IN'), ('paypal', 'NN'), (',', ','), ('the', 'DT'), ('system', 'NN'), ('verifies', 'VBZ'), ('the', 'DT'), ('paypal', 'JJ'), ('payment', 'NN'), ('information', 'NN'), ('.', '.'), ('the', 'DT'), ('system', 'NN'), ('provide', 'VBP'), ('tracking', 'VBG'), ('options', 'NNS'), ('.', '.'), ('when', 'WRB'), ('a', 'DT'), ('customer', 'NN'), ('tracks', 'VBZ'), ('the', 'DT'), ('product', 'NN'), (\"'s\", 'POS'), ('order', 'NN'), ('status', 'NN'), (',', ','), ('the', 'DT'), ('system', 'NN'), ('presents', 'VBZ'), ('the', 'DT'), ('shipment', 'NN'), ('details', 'NNS'), ('.', '.'), ('the', 'DT'), ('system', 'NN'), ('can', 'MD'), ('handle', 'VB'), ('product', 'NN'), ('return', 'NN'), ('.', '.'), ('if', 'IN'), ('a', 'DT'), ('customer', 'NN'), ('returns', 'VBZ'), ('a', 'DT'), ('damaged', 'JJ'), ('product', 'NN'), (',', ','), ('the', 'DT'), ('system', 'NN'), ('sends', 'VBZ'), ('a', 'DT'), ('negative', 'JJ'), ('review', 'NN'), ('on', 'IN'), ('the', 'DT'), ('product', 'NN'), ('to', 'TO'), ('the', 'DT'), ('supplier', 'NN'), ('.', '.'), ('the', 'DT'), ('system', 'NN'), ('allows', 'VBZ'), ('canceling', 'VBG'), ('an', 'DT'), ('order', 'NN'), ('.', '.'), ('if', 'IN'), ('a', 'DT'), ('customer', 'NN'), ('cancels', 'VBZ'), ('an', 'DT'), ('order', 'NN'), ('that', 'WDT'), ('has', 'VBZ'), ('not', 'RB'), ('been', 'VBN'), ('shipped', 'VBN'), (',', ','), ('the', 'DT'), ('system', 'NN'), ('refunds', 'VBZ'), ('the', 'DT'), ('payment', 'NN'), ('.', '.'), ('the', 'DT'), ('system', 'NN'), ('allows', 'VBZ'), ('canceling', 'VBG'), ('an', 'DT'), ('order', 'NN'), ('.', '.'), ('when', 'WRB'), ('a', 'DT'), ('customer', 'NN'), ('cancels', 'VBZ'), ('an', 'DT'), ('order', 'NN'), ('that', 'WDT'), ('has', 'VBZ'), ('been', 'VBN'), ('shipped', 'VBN'), (',', ','), ('the', 'DT'), ('system', 'NN'), ('updates', 'VBZ'), ('the', 'DT'), ('payment', 'NN'), ('by', 'IN'), ('including', 'VBG'), ('the', 'DT'), ('goods', 'NNS'), ('return', 'VBP'), ('impact', 'NN'), ('.', '.'), ('the', 'DT'), ('system', 'NN'), ('can', 'MD'), ('maintain', 'VB'), ('product', 'NN'), ('reviews', 'NNS'), ('.', '.'), ('if', 'IN'), ('a', 'DT'), ('registered', 'JJ'), ('customer', 'NN'), ('reviews', 'VBZ'), ('a', 'DT'), ('product', 'NN'), (',', ','), ('the', 'DT'), ('system', 'NN'), ('stores', 'NNS'), ('the', 'DT'), ('product', 'NN'), ('review', 'NN'), (',', ','), ('by', 'IN'), ('product', 'NN'), ('category', 'NN'), ('.', '.')]\n",
    "coefficients = [-0.04600632, -0.55903431, -0.54167627, -0.3076152,  -0.08713945, -0.5809159, 0.71772929]\n",
    "coeff_col = ['NNS','VBZ','NN','VBN','VBP','VBG','VB']\n"
   ]
  },
  {
   "cell_type": "code",
   "execution_count": 41,
   "metadata": {},
   "outputs": [
    {
     "name": "stdout",
     "output_type": "stream",
     "text": [
      "Error ignored\n",
      "Error ignored\n",
      "[('purchase', 0.12018789476247309), ('payments details', 0.4090121588508883), ('purchase', 0.12018789476247309), ('shipment details', 0.19696112037196897), ('credit cards', 0.15225263619678697), ('payment', 0.1027804825140957), ('contacting', 0.3587218723279027), ('ship', 0.6721067954026484), ('products', 0.4201776318450621), ('email', 0.16451250297739486), ('email', 0.16451250297739486), ('products', 0.4201776318450621), ('inventory', 0.16451250297739486), ('gift cards', 0.23588657231477744), ('track', 0.6721067954026484), ('inventory', 0.16451250297739486), ('products', 0.4201776318450621), ('catalog', 0.25287210403877), ('products', 0.4201776318450621), ('products', 0.4201776318450621), ('enters', 0.24636971042390945), ('products', 0.4201776318450621), ('catalog', 0.25287210403877), ('products list', 0.296562611044143), ('purchase', 0.12018789476247309), ('shopping cart', 0.1027804825140957), ('page', 0.16451250297739486), ('inventory', 0.16451250297739486), ('email', 0.16451250297739486), ('purchase', 0.12018789476247309), ('shopping cart', 0.1027804825140957), ('paypal', 0.16451250297739486), ('paypal', 0.16451250297739486), ('shipment details', 0.19696112037196897), ('review', 0.16451250297739486), ('been shipped', 0.22610078512948148), ('payment', 0.1027804825140957), ('been shipped', 0.22610078512948148), ('payment', 0.1027804825140957), ('including', 0.3587218723279027), ('goods return impact', 0.14701910819777708)]\n",
      "[('contacting', 0.3587218723279027), ('ship', 0.6721067954026484), ('products', 0.4201776318450621), ('email', 0.16451250297739486), ('email', 0.16451250297739486), ('products', 0.4201776318450621), ('inventory', 0.16451250297739486), ('gift cards', 0.23588657231477744), ('inventory', 0.16451250297739486), ('products', 0.4201776318450621), ('catalog', 0.25287210403877), ('products', 0.4201776318450621), ('products', 0.4201776318450621), ('enters', 0.24636971042390945), ('products', 0.4201776318450621), ('catalog', 0.25287210403877), ('products list', 0.296562611044143), ('shopping cart', 0.1027804825140957), ('inventory', 0.16451250297739486), ('email', 0.16451250297739486), ('shopping cart', 0.1027804825140957)]\n",
      "['contacting    0.3587218723279027', 'products    0.4201776318450621', 'gift_cards    0.23588657231477744', 'catalog    0.25287210403877', 'products_list    0.296562611044143', 'email    0.16451250297739486', 'shopping_cart    0.1027804825140957', 'enters    0.24636971042390945']\n"
     ]
    }
   ],
   "source": [
    "# compute and get all mandatory features and see which ones are not in the evaluated FM\n",
    "cutOff = 0.1\n",
    "mandatoryFeatures = []\n",
    "for _ft in allFeatures:\n",
    "    _ftArr = _ft.split(' ')\n",
    "    tgArr = [_t for (w,_t) in allTags if w in _ftArr]\n",
    "    sumC = 0\n",
    "    for _tg in tgArr:\n",
    "        try:\n",
    "            idx = coeff_col.index(_tg)\n",
    "        except:\n",
    "            print('Error ignored')\n",
    "        if idx >= 0:\n",
    "            sumC = sumC + coefficients[idx]\n",
    "#             mandatoryFeatures.append((_ft, sumC))\n",
    "    if 1 / (1 + math.exp(-sumC)) >= cutOff:\n",
    "        mandatoryFeatures.append((_ft, 1 / (1 + math.exp(-sumC))))\n",
    "        \n",
    "print(mandatoryFeatures)\n",
    "\n",
    "selectedFeatures = []        \n",
    "for (f,s) in mandatoryFeatures:\n",
    "    if relScoresFeatures[allFeatures.index(f)] > 0.9:\n",
    "        selectedFeatures.append((f,s))\n",
    "\n",
    "print(selectedFeatures)\n",
    "\n",
    "missingFeatures =[]\n",
    "for lidx, line in enumerate(evaluatedFM):\n",
    "    if line.isspace():\n",
    "        relationsStart = lidx + 1\n",
    "        break\n",
    "    ph = line.split('\\t')[1].strip('\\n') # get the phrase\n",
    "    wrds = ph.split(' ') # get the words\n",
    "    for (sf, sc) in selectedFeatures:\n",
    "        idxs = any(sf in w for w in evaluatedFM)\n",
    "        if not idxs:\n",
    "            missingFeatures.append(sf.replace(' ','_') + '    ' + str(sc))\n",
    "    \n",
    "\n",
    "missed = list(set(missingFeatures))\n",
    "print(missed)"
   ]
  },
  {
   "cell_type": "code",
   "execution_count": 51,
   "metadata": {},
   "outputs": [
    {
     "name": "stdout",
     "output_type": "stream",
     "text": [
      "[17, 18, 19, 20, 21]\n"
     ]
    }
   ],
   "source": [
    "selectedMissingFeatures = [('contacting',0.3587218723279027),('products_list',0.296562611044143),('catalog',0.25287210403877),('email', 0.16451250297739486),('shopping_cart', 0.1027804825140957)]\n",
    "\n",
    "evalFM = open(\"FX-Eshop-FM-Feval.txt\",\"r\")\n",
    "evalFM = evalFM.readlines()\n",
    "\n",
    "relsStart = -1\n",
    "fetEnd = -1\n",
    "for lidx, line in enumerate(evalFM):\n",
    "    if line.isspace():\n",
    "        relsStart = lidx + 1\n",
    "        fetEnd = lidx\n",
    "        break\n",
    "  \n",
    "# select \n",
    "newFeatureNums = []\n",
    "for (it,_sc) in selectedMissingFeatures:\n",
    "    evalFM.insert(fetEnd, str(fetEnd+1)+'\\t'+ it + '\\t' + str(_sc)+'\\n')\n",
    "    newFeatureNums.append(fetEnd+1)\n",
    "    fetEnd = fetEnd + 1\n",
    "    \n",
    "print(newFeatureNums)\n",
    "# Add the new features\n",
    "with open('FX-Eshop-FM-Feval.txt','w') as f:\n",
    "    f.write(''.join(evalFM))\n",
    "\n",
    "# manually adding the relations"
   ]
  }
 ],
 "metadata": {
  "kernelspec": {
   "display_name": "Python 3",
   "language": "python",
   "name": "python3"
  },
  "language_info": {
   "codemirror_mode": {
    "name": "ipython",
    "version": 3
   },
   "file_extension": ".py",
   "mimetype": "text/x-python",
   "name": "python",
   "nbconvert_exporter": "python",
   "pygments_lexer": "ipython3",
   "version": "3.7.1"
  }
 },
 "nbformat": 4,
 "nbformat_minor": 2
}
