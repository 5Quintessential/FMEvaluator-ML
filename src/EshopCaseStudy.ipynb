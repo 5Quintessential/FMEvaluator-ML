{
 "cells": [
  {
   "cell_type": "code",
   "execution_count": 288,
   "metadata": {},
   "outputs": [],
   "source": [
    "# import libraries\n",
    "%run StatisticalFMEvaluator.ipynb    "
   ]
  },
  {
   "cell_type": "code",
   "execution_count": 289,
   "metadata": {},
   "outputs": [
    {
     "name": "stdout",
     "output_type": "stream",
     "text": [
      "####################### DOCUMENT ####################\n"
     ]
    }
   ],
   "source": [
    "caseStudyName = 'eshop'\n",
    "\n",
    "# read specification text\n",
    "spec_processed = open(\"Eshop.txt\",\"r\")\n",
    "spec_processed = spec_processed.readlines()\n",
    "\n",
    "# invoke FM evaluator\n",
    "fme = StatisticalFMEvaluator(spec_processed, caseStudyName)\n",
    "fme.generateCorpus()\n",
    "# cDict = fme.getCorpusDictionary()\n",
    "# fme.printCorpus()\n",
    "# fme.printDictionary()\n",
    "scores = fme.computeTfIdfScores()\n",
    "# words_dict = fme.printDictionary()\n",
    "# print(scores)"
   ]
  },
  {
   "cell_type": "code",
   "execution_count": 290,
   "metadata": {},
   "outputs": [
    {
     "name": "stdout",
     "output_type": "stream",
     "text": [
      "['Feature', 'NNS', 'VBZ', 'NN', 'VBN', 'VBP', 'VBG', 'VB']\n"
     ]
    }
   ],
   "source": [
    "# Selecting 'products' as the root feature\n",
    "root_feature_word = 'products'\n",
    "# Compute all probable feature phrases\n",
    "# starting with selected root feature\n",
    "ngramDef = 2 # selecting phrases with +/- 2 words around the selected word \n",
    "# get all feature terms with a maximum of 5-grams\n",
    "features = fme.getFeatureTermsList(root_feature_word, ngramDef)\n",
    "allFeatures = fme.getAllFeaturesLst()\n",
    "allTags = fme.getAllFeaturesTagsLst()\n",
    "\n",
    "sentenceTags = fme.getDocTagsArray()\n",
    "\n",
    "featureValues = [(allFeatures[idx],allTags[idx]) for idx in features]\n",
    "# print(featureValues)\n",
    "\n",
    "# get regression data\n",
    "ra = RegressionAnalysis(features, allFeatures, allTags)\n",
    "regressionData = ra.computeRegressionData()\n",
    "regressionData.to_csv(caseStudyName+'_regressionData.csv', index = False, sep=',', encoding='utf-8')\n",
    "# At this point pause the code execution and update the csv file by marking all features from the domain expert FM"
   ]
  },
  {
   "cell_type": "code",
   "execution_count": 291,
   "metadata": {},
   "outputs": [
    {
     "name": "stdout",
     "output_type": "stream",
     "text": [
      "['system verifies', 'purchase', 'payments details', 'supplier confirms', 'purchase', 'system asks', 'shipment details', 'system supports paying', 'credit cards', 'customer pays', 'credit card', 'system approves', 'payment', 'contacting', 'credit card company', 'system completes recording', 'order', 'supplier', 'ship', 'products', 'customer', 'system sends', 'shipping documents', 'email', 'system finalizes', 'software order details', 'supplier ships', 'product', 'email', 'system sends', 'shipping documents', 'system supports', 'shipping options', 'customer buys', 'product', 'system supports', 'mail shipping', 'system displays', 'products', 'customer buys', 'product', 'system updates', 'inventory', 'system supports paying', 'gift cards', 'customer pays', 'gift card', 'system supports', 'land shipping', 'customer', 'track', 'purchase status', 'system provides details', 'product delivery status', 'system presents', 'product return page', 'customer returns', 'product', 'system updates', 'inventory', 'system presents', 'product page', 'supplier enters', 'products', 'system updates', 'catalog', 'system enables customers writing reviews', 'products', 'customer reviews', 'product', 'system sends', 'product review', 'supplier', 'supplier receives', 'products', 'enters', 'products', 'system', 'system updates', 'catalog', 'system presents', 'products list', 'customer', 'purchase', 'product', 'system updates', 'shopping cart', 'system presents', 'page', 'customer purchases', 'product', 'system updates', 'inventory', 'system finalizes', 'software order details', 'supplier ships', 'product', 'email', 'system updates', 'product delivery status', 'system validates purchase details', 'supplier confirms', 'purchase', 'system clears', 'shopping cart', 'system supports paying', 'paypal', 'customer pays', 'paypal', 'system verifies', 'payment information', 'system provide tracking options', 'customer tracks', 'product', 'order status', 'system presents', 'shipment details', 'system', 'handle product return', 'customer returns', 'product', 'system sends', 'review', 'product', 'supplier', 'system allows canceling', 'order', 'customer cancels', 'order', 'been shipped', 'system refunds', 'payment', 'system allows canceling', 'order', 'customer cancels', 'order', 'been shipped', 'system updates', 'payment', 'including', 'goods return impact', 'system', 'maintain product reviews', 'customer reviews', 'product', 'system stores', 'product review', 'product category']\n"
     ]
    }
   ],
   "source": [
    "print(allFeatures)"
   ]
  },
  {
   "cell_type": "code",
   "execution_count": 292,
   "metadata": {
    "scrolled": true
   },
   "outputs": [
    {
     "name": "stdout",
     "output_type": "stream",
     "text": [
      "[('after', 'IN'), ('the', 'DT'), ('system', 'NN'), ('verifies', 'VBZ'), ('the', 'DT'), ('purchase', 'NN'), (\"'s\", 'POS'), ('payments', 'NNS'), ('details', 'NNS'), (',', ','), ('the', 'DT'), ('supplier', 'NN'), ('confirms', 'VBZ'), ('the', 'DT'), ('purchase', 'NN'), ('.', '.'), ('the', 'DT'), ('system', 'NN'), ('asks', 'VBZ'), ('for', 'IN'), ('shipment', 'NN'), ('details', 'NNS'), ('.', '.'), ('the', 'DT'), ('system', 'NN'), ('supports', 'VBZ'), ('paying', 'VBG'), ('with', 'IN'), ('credit', 'NN'), ('cards', 'NNS'), ('.', '.'), ('if', 'IN'), ('a', 'DT'), ('customer', 'NN'), ('pays', 'VBZ'), ('with', 'IN'), ('a', 'DT'), ('credit', 'NN'), ('card', 'NN'), (',', ','), ('the', 'DT'), ('system', 'NN'), ('approves', 'VBZ'), ('first', 'RB'), ('the', 'DT'), ('payment', 'NN'), ('by', 'IN'), ('contacting', 'VBG'), ('the', 'DT'), ('credit', 'NN'), ('card', 'NN'), ('company', 'NN'), ('.', '.'), ('when', 'WRB'), ('the', 'DT'), ('system', 'NN'), ('completes', 'VBZ'), ('recording', 'VBG'), ('an', 'DT'), ('order', 'NN'), (',', ','), ('the', 'DT'), ('supplier', 'NN'), ('can', 'MD'), ('ship', 'VB'), ('the', 'DT'), ('ordered', 'JJ'), ('products', 'NNS'), ('to', 'TO'), ('the', 'DT'), ('customer', 'NN'), ('.', '.'), ('the', 'DT'), ('system', 'NN'), ('sends', 'VBZ'), ('the', 'DT'), ('shipping', 'NN'), ('documents', 'NNS'), ('via', 'IN'), ('email', 'NN'), ('.', '.'), ('when', 'WRB'), ('the', 'DT'), ('system', 'NN'), ('finalizes', 'VBZ'), ('a', 'DT'), ('software', 'NN'), ('order', 'NN'), ('details', 'NNS'), (',', ','), ('the', 'DT'), ('supplier', 'NN'), ('ships', 'VBZ'), ('the', 'DT'), ('ordered', 'JJ'), ('product', 'NN'), ('via', 'IN'), ('email', 'NN'), ('.', '.'), ('the', 'DT'), ('system', 'NN'), ('sends', 'VBZ'), ('the', 'DT'), ('shipping', 'NN'), ('documents', 'NNS'), ('.', '.'), ('the', 'DT'), ('system', 'NN'), ('supports', 'VBZ'), ('different', 'JJ'), ('shipping', 'NN'), ('options', 'NNS'), ('.', '.'), ('however', 'RB'), (',', ','), ('if', 'IN'), ('a', 'DT'), ('customer', 'NN'), ('buys', 'VBZ'), ('a', 'DT'), ('very', 'RB'), ('small', 'JJ'), ('product', 'NN'), (',', ','), ('the', 'DT'), ('system', 'NN'), ('supports', 'VBZ'), ('only', 'RB'), ('air', 'JJ'), ('mail', 'NN'), ('shipping', 'NN'), ('.', '.'), ('the', 'DT'), ('system', 'NN'), ('displays', 'VBZ'), ('the', 'DT'), ('available', 'JJ'), ('products', 'NNS'), ('.', '.'), ('when', 'WRB'), ('a', 'DT'), ('registered', 'JJ'), ('customer', 'NN'), ('buys', 'VBZ'), ('a', 'DT'), ('product', 'NN'), (',', ','), ('the', 'DT'), ('system', 'NN'), ('updates', 'VBZ'), ('the', 'DT'), ('inventory', 'NN'), ('.', '.'), ('the', 'DT'), ('system', 'NN'), ('supports', 'VBZ'), ('paying', 'VBG'), ('with', 'IN'), ('gift', 'NN'), ('cards', 'NNS'), ('.', '.'), ('if', 'IN'), ('a', 'DT'), ('customer', 'NN'), ('pays', 'VBZ'), ('with', 'IN'), ('a', 'DT'), ('gift', 'NN'), ('card', 'NN'), (',', ','), ('the', 'DT'), ('system', 'NN'), ('supports', 'VBZ'), ('only', 'RB'), ('land', 'NN'), ('shipping', 'NN'), ('.', '.'), ('a', 'DT'), ('customer', 'NN'), ('can', 'MD'), ('track', 'VB'), ('the', 'DT'), ('purchase', 'NN'), ('status', 'NN'), ('.', '.'), ('the', 'DT'), ('system', 'NN'), ('provides', 'VBZ'), ('details', 'NNS'), ('on', 'IN'), ('the', 'DT'), ('product', 'NN'), ('delivery', 'NN'), ('status', 'NN'), ('.', '.'), ('the', 'DT'), ('system', 'NN'), ('presents', 'VBZ'), ('the', 'DT'), ('product', 'NN'), ('return', 'NN'), ('page', 'NN'), ('.', '.'), ('if', 'IN'), ('the', 'DT'), ('customer', 'NN'), ('returns', 'VBZ'), ('a', 'DT'), ('product', 'NN'), (',', ','), ('the', 'DT'), ('system', 'NN'), ('updates', 'VBZ'), ('the', 'DT'), ('inventory', 'NN'), ('.', '.'), ('the', 'DT'), ('system', 'NN'), ('presents', 'VBZ'), ('the', 'DT'), ('product', 'NN'), ('page', 'NN'), ('.', '.'), ('when', 'WRB'), ('a', 'DT'), ('supplier', 'NN'), ('enters', 'VBZ'), ('new', 'JJ'), ('products', 'NNS'), (',', ','), ('the', 'DT'), ('system', 'NN'), ('updates', 'VBZ'), ('the', 'DT'), ('catalog', 'NN'), ('.', '.'), ('the', 'DT'), ('system', 'NN'), ('enables', 'VBZ'), ('customers', 'NNS'), ('writing', 'VBG'), ('reviews', 'NNS'), ('on', 'IN'), ('products', 'NNS'), ('.', '.'), ('when', 'WRB'), ('a', 'DT'), ('customer', 'NN'), ('reviews', 'VBZ'), ('a', 'DT'), ('product', 'NN'), (',', ','), ('the', 'DT'), ('system', 'NN'), ('sends', 'VBZ'), ('the', 'DT'), ('product', 'NN'), ('review', 'NN'), ('to', 'TO'), ('the', 'DT'), ('relevant', 'JJ'), ('supplier', 'NN'), ('.', '.'), ('when', 'WRB'), ('a', 'DT'), ('supplier', 'NN'), ('receives', 'VBZ'), ('new', 'JJ'), ('products', 'NNS'), (',', ','), ('he', 'PRP'), ('enters', 'VBZ'), ('the', 'DT'), ('new', 'JJ'), ('products', 'NNS'), ('to', 'TO'), ('the', 'DT'), ('system', 'NN'), ('.', '.'), ('the', 'DT'), ('system', 'NN'), ('updates', 'VBZ'), ('the', 'DT'), ('catalog', 'NN'), ('.', '.'), ('when', 'WRB'), ('the', 'DT'), ('system', 'NN'), ('presents', 'VBZ'), ('the', 'DT'), ('available', 'JJ'), ('products', 'NNS'), ('list', 'NN'), (',', ','), ('a', 'DT'), ('customer', 'NN'), ('can', 'MD'), ('purchase', 'VB'), ('a', 'DT'), ('product', 'NN'), ('.', '.'), ('the', 'DT'), ('system', 'NN'), ('updates', 'VBZ'), ('the', 'DT'), ('shopping', 'NN'), ('cart', 'NN'), ('.', '.'), ('the', 'DT'), ('system', 'NN'), ('presents', 'VBZ'), ('the', 'DT'), ('ordering', 'JJ'), ('page', 'NN'), ('.', '.'), ('if', 'IN'), ('a', 'DT'), ('customer', 'NN'), ('purchases', 'NNS'), ('a', 'DT'), ('product', 'NN'), (',', ','), ('the', 'DT'), ('system', 'NN'), ('updates', 'VBZ'), ('the', 'DT'), ('inventory', 'NN'), ('.', '.'), ('when', 'WRB'), ('the', 'DT'), ('system', 'NN'), ('finalizes', 'VBZ'), ('a', 'DT'), ('software', 'NN'), ('order', 'NN'), ('details', 'NNS'), (',', ','), ('the', 'DT'), ('supplier', 'NN'), ('ships', 'VBZ'), ('the', 'DT'), ('ordered', 'JJ'), ('product', 'NN'), ('via', 'IN'), ('email', 'NN'), ('.', '.'), ('the', 'DT'), ('system', 'NN'), ('updates', 'VBZ'), ('the', 'DT'), ('product', 'NN'), ('delivery', 'NN'), ('status', 'NN'), ('.', '.'), ('when', 'WRB'), ('the', 'DT'), ('system', 'NN'), ('validates', 'VBZ'), ('purchase', 'NN'), ('details', 'NNS'), (',', ','), ('the', 'DT'), ('supplier', 'NN'), ('confirms', 'VBZ'), ('the', 'DT'), ('purchase', 'NN'), ('.', '.'), ('the', 'DT'), ('system', 'NN'), ('clears', 'VBZ'), ('the', 'DT'), ('shopping', 'NN'), ('cart', 'NN'), ('.', '.'), ('the', 'DT'), ('system', 'NN'), ('supports', 'VBZ'), ('paying', 'VBG'), ('with', 'IN'), ('paypal', 'NN'), ('.', '.'), ('if', 'IN'), ('a', 'DT'), ('customer', 'NN'), ('pays', 'VBZ'), ('with', 'IN'), ('paypal', 'NN'), (',', ','), ('the', 'DT'), ('system', 'NN'), ('verifies', 'VBZ'), ('the', 'DT'), ('paypal', 'JJ'), ('payment', 'NN'), ('information', 'NN'), ('.', '.'), ('the', 'DT'), ('system', 'NN'), ('provide', 'VBP'), ('tracking', 'VBG'), ('options', 'NNS'), ('.', '.'), ('when', 'WRB'), ('a', 'DT'), ('customer', 'NN'), ('tracks', 'VBZ'), ('the', 'DT'), ('product', 'NN'), (\"'s\", 'POS'), ('order', 'NN'), ('status', 'NN'), (',', ','), ('the', 'DT'), ('system', 'NN'), ('presents', 'VBZ'), ('the', 'DT'), ('shipment', 'NN'), ('details', 'NNS'), ('.', '.'), ('the', 'DT'), ('system', 'NN'), ('can', 'MD'), ('handle', 'VB'), ('product', 'NN'), ('return', 'NN'), ('.', '.'), ('if', 'IN'), ('a', 'DT'), ('customer', 'NN'), ('returns', 'VBZ'), ('a', 'DT'), ('damaged', 'JJ'), ('product', 'NN'), (',', ','), ('the', 'DT'), ('system', 'NN'), ('sends', 'VBZ'), ('a', 'DT'), ('negative', 'JJ'), ('review', 'NN'), ('on', 'IN'), ('the', 'DT'), ('product', 'NN'), ('to', 'TO'), ('the', 'DT'), ('supplier', 'NN'), ('.', '.'), ('the', 'DT'), ('system', 'NN'), ('allows', 'VBZ'), ('canceling', 'VBG'), ('an', 'DT'), ('order', 'NN'), ('.', '.'), ('if', 'IN'), ('a', 'DT'), ('customer', 'NN'), ('cancels', 'VBZ'), ('an', 'DT'), ('order', 'NN'), ('that', 'WDT'), ('has', 'VBZ'), ('not', 'RB'), ('been', 'VBN'), ('shipped', 'VBN'), (',', ','), ('the', 'DT'), ('system', 'NN'), ('refunds', 'VBZ'), ('the', 'DT'), ('payment', 'NN'), ('.', '.'), ('the', 'DT'), ('system', 'NN'), ('allows', 'VBZ'), ('canceling', 'VBG'), ('an', 'DT'), ('order', 'NN'), ('.', '.'), ('when', 'WRB'), ('a', 'DT'), ('customer', 'NN'), ('cancels', 'VBZ'), ('an', 'DT'), ('order', 'NN'), ('that', 'WDT'), ('has', 'VBZ'), ('been', 'VBN'), ('shipped', 'VBN'), (',', ','), ('the', 'DT'), ('system', 'NN'), ('updates', 'VBZ'), ('the', 'DT'), ('payment', 'NN'), ('by', 'IN'), ('including', 'VBG'), ('the', 'DT'), ('goods', 'NNS'), ('return', 'VBP'), ('impact', 'NN'), ('.', '.'), ('the', 'DT'), ('system', 'NN'), ('can', 'MD'), ('maintain', 'VB'), ('product', 'NN'), ('reviews', 'NNS'), ('.', '.'), ('if', 'IN'), ('a', 'DT'), ('registered', 'JJ'), ('customer', 'NN'), ('reviews', 'VBZ'), ('a', 'DT'), ('product', 'NN'), (',', ','), ('the', 'DT'), ('system', 'NN'), ('stores', 'NNS'), ('the', 'DT'), ('product', 'NN'), ('review', 'NN'), (',', ','), ('by', 'IN'), ('product', 'NN'), ('category', 'NN'), ('.', '.')]\n"
     ]
    }
   ],
   "source": [
    "print(sentenceTags[0])"
   ]
  },
  {
   "cell_type": "code",
   "execution_count": 293,
   "metadata": {
    "scrolled": true
   },
   "outputs": [
    {
     "name": "stdout",
     "output_type": "stream",
     "text": [
      "     NNS  VBZ  NN  VBN  VBP  VBG  VB\n",
      "122    0    0   1    0    0    0   0\n",
      "38     1    0   0    0    0    0   0\n",
      "3      0    1   1    0    0    0   0\n",
      "87     0    1   1    0    0    0   0\n",
      "15     0    1   1    0    0    1   0\n",
      "{'NNS': -0.0683060345266197, 'VBZ': -0.5979082214418021, 'NN': -0.9717630792039277, 'VBN': -0.5922145818566962, 'VBP': -0.2219070404927982, 'VBG': -0.5697173484061757, 'VB': 0.42468621789679506}\n"
     ]
    }
   ],
   "source": [
    "# Feature Predictor Model\n",
    "ra.modelGeneration_Coefficients(caseStudyName+'_regressionData.csv') # generate the coefficients"
   ]
  },
  {
   "cell_type": "code",
   "execution_count": 279,
   "metadata": {},
   "outputs": [
    {
     "name": "stdout",
     "output_type": "stream",
     "text": [
      "[0.7121212121212122, 0.7272727272727273, 0.7424242424242424, 0.7575757575757576, 0.7727272727272727, 0.7878787878787878, 0.803030303030303, 0.8181818181818181, 0.8333333333333334, 0.8484848484848485, 0.8636363636363636, 0.8787878787878788, 0.8939393939393939, 0.9090909090909091, 0.9242424242424242, 0.9393939393939394, 0.9545454545454546, 0.9696969696969697, 0.9848484848484849, 1.0, 0.9848484848484849, 0.9696969696969697, 0.9545454545454546, 0.9393939393939394, 0.9242424242424242, 0.9090909090909091, 0.8939393939393939, 0.8787878787878788, 0.8636363636363636, 0.8636363636363636, 0.8787878787878788, 0.8939393939393939, 0.9090909090909091, 0.9242424242424242, 0.9393939393939394, 0.9545454545454546, 0.9696969696969697, 0.9848484848484849, 1.0, 0.9848484848484849, 0.9696969696969697, 0.9545454545454546, 0.9393939393939394, 0.9242424242424242, 0.9090909090909091, 0.8939393939393939, 0.8787878787878788, 0.8636363636363636, 0.8484848484848485, 0.8333333333333334, 0.8181818181818181, 0.8181818181818181, 0.8333333333333334, 0.8484848484848485, 0.8636363636363636, 0.8787878787878788, 0.8939393939393939, 0.9090909090909091, 0.9242424242424242, 0.9393939393939394, 0.9545454545454546, 0.9696969696969697, 0.9848484848484849, 1.0, 0.9848484848484849, 0.9696969696969697, 0.9848484848484849, 1.0, 0.9848484848484849, 0.9696969696969697, 0.9545454545454546, 0.9545454545454546, 0.9696969696969697, 0.9848484848484849, 1.0, 0.9848484848484849, 1.0, 0.9848484848484849, 0.9696969696969697, 0.9696969696969697, 0.9848484848484849, 1.0, 0.9848484848484849, 0.9696969696969697, 0.9545454545454546, 0.9393939393939394, 0.9242424242424242, 0.9090909090909091, 0.8939393939393939, 0.8787878787878788, 0.8636363636363636, 0.8484848484848485, 0.8333333333333334, 0.8181818181818181, 0.803030303030303, 0.7878787878787878, 0.7727272727272727, 0.7575757575757576, 0.7424242424242424, 0.7272727272727273, 0.7121212121212122, 0.696969696969697, 0.6818181818181819, 0.6666666666666667, 0.6515151515151515, 0.6363636363636364, 0.6212121212121212, 0.6060606060606061, 0.5909090909090908, 0.5757575757575757, 0.5606060606060606, 0.5454545454545454, 0.5303030303030303, 0.5151515151515151, 0.5, 0.48484848484848486, 0.4696969696969697, 0.4545454545454546, 0.43939393939393945, 0.4242424242424242, 0.40909090909090906, 0.3939393939393939, 0.3787878787878788, 0.36363636363636365, 0.3484848484848485, 0.33333333333333337, 0.31818181818181823, 0.303030303030303, 0.28787878787878785, 0.2727272727272727, 0.25757575757575757, 0.24242424242424243, 0.2272727272727273, 0.21212121212121215, 0.19696969696969702, 0.18181818181818177, 0.16666666666666663, 0.1515151515151515, 0.13636363636363635, 0.12121212121212122, 0.10606060606060608, 0.09090909090909094, 0.0757575757575758, 0.06060606060606055, 0.045454545454545414, 0.030303030303030276, 0.015151515151515138, 0.0]\n"
     ]
    }
   ],
   "source": [
    "# Relations Predictor\n",
    "rp = RelationsPredictor(root_feature_word, allFeatures)\n",
    "Rt = rp.computeDistanceScores()\n",
    "print(Rt)"
   ]
  },
  {
   "cell_type": "code",
   "execution_count": 280,
   "metadata": {},
   "outputs": [],
   "source": [
    "# Evaluate FEATURE-X FM\n",
    "# Read the input file with FM description\n",
    "fm1 = open(\"FX-Eshop-FM.txt\",\"r\")\n",
    "fm1 = fm1.readlines()\n",
    "\n",
    "evalResult = [] # Store the result lines, which will be used for generating the heat map\n",
    "fm_features = {} # Store the feature phrase indexes that correspond to the phrases in the original text\n",
    "relationsStart = 0 # pointer for the relations start in the FM text\n",
    "\n",
    "allWrds = [tup[0] for tup in sentenceTags[0]]\n",
    "allTags = [tup[1] for tup in sentenceTags[0]] \n",
    "\n",
    "for lidx, line in enumerate(fm1):\n",
    "    if line.isspace():\n",
    "        relationsStart = lidx + 1\n",
    "        break\n",
    "    ph = line.split('\\t')[1].strip('\\n') # get the phrase\n",
    "    wrds = ph.split(' ') # get the words\n",
    "    featureTagSeq = []\n",
    "    \n",
    "    # check if the phrase is a subsequence in the list of all words\n",
    "    seq_idx = ra.isSeqIn(wrds, allWrds)\n",
    "    # print(seq_idx)\n",
    "    if seq_idx != -1:\n",
    "        for j in range(seq_idx, seq_idx+len(wrds)):\n",
    "            featureTagSeq.append(allTags[j])\n",
    "            # print(\"j =\" + str(j))\n",
    "            # print(allTags[j])\n",
    "    else:\n",
    "        foundTags = fme.getSimilarMeaningListOfWords(wrds)\n",
    "        if foundTags:\n",
    "            featureTagSeq = foundTags\n",
    "            \n",
    "    if not featureTagSeq:\n",
    "        evalResult.append(str(lidx+1) + '\\t' + ph.replace(' ','_') + '\\t' + '0')\n",
    "        fm_features[lidx+1] = -1\n",
    "    else:\n",
    "        evalResult.append(str(lidx+1) + '\\t' + ph.replace(' ','_') + '\\t' + str(ra.PredictFeatureProbability(featureTagSeq)))\n",
    "        fm_features[lidx+1] = fme.getFeatureIndex(ph)\n",
    "\n",
    "# Update the FM file with Feature evaluation\n",
    "with open('FX-Eshop-FM-Feval.txt','w') as f:\n",
    "    f.write('\\n'.join(evalResult))\n",
    "    \n",
    "# Evaluate relations\n",
    "allFmRelations = []\n",
    "for senIdx in range(relationsStart, len(fm1)):\n",
    "    relation1 = fm1[senIdx].strip('\\n').split('\\t')\n",
    "    f1 = relation1[0]\n",
    "    f2 = relation1[1]\n",
    "    rType = relation1[2]\n",
    "    rEvalType = 'O'\n",
    "    relScore = 0\n",
    "    if fm_features[int(f1)] != -1 and fm_features[int(f2)] != -1:\n",
    "        f1_score = Rt[int(fm_features[int(f1)])]\n",
    "        f2_score = Rt[int(fm_features[int(f2)])]\n",
    "        \n",
    "        if f1_score >= 0.900 and f2_score >= 0.900:\n",
    "            rEvalType = 'M'\n",
    "            \n",
    "        relScore = f1_score * f2_score            \n",
    "    else:\n",
    "        relScore = '0'\n",
    "        \n",
    "    allFmRelations.append(f1 + '\\t' + f2 + '\\t' + rType + '\\t' + str(relScore) + '\\t' + rEvalType)\n",
    " \n",
    " # Update the FM file with Feature evaluation\n",
    "with open('FX-Eshop-FM-Feval.txt','a') as f:\n",
    "    f.write('\\n\\n')\n",
    "    f.write('\\n'.join(allFmRelations))"
   ]
  },
  {
   "cell_type": "code",
   "execution_count": 281,
   "metadata": {},
   "outputs": [],
   "source": [
    "# Evaluate LITERATURE FM\n",
    "fm2 = open(\"Lit-Eshop-FM.txt\",\"r\")\n",
    "fm2 = fm2.readlines()\n",
    "\n",
    "evalResult = [] # Store the result lines, which will be used for generating the heat map\n",
    "fm_features = {} # Store the feature phrase indexes that correspond to the phrases in the original text\n",
    "relationsStart = 0 # pointer for the relations start in the FM text\n",
    "\n",
    "allWrds = [tup[0] for tup in sentenceTags[0]]\n",
    "allTags = [tup[1] for tup in sentenceTags[0]] \n",
    "\n",
    "for lidx, line in enumerate(fm2):\n",
    "    if line.isspace():\n",
    "        relationsStart = lidx + 1\n",
    "        break\n",
    "    ph = line.split('\\t')[1].strip('\\n') # get the phrase\n",
    "    wrds = ph.split(' ') # get the words\n",
    "    featureTagSeq = []\n",
    "    \n",
    "    # check if the phrase is a subsequence in the list of all words\n",
    "    seq_idx = ra.isSeqIn(wrds, allWrds)\n",
    "    # print(seq_idx)\n",
    "    if seq_idx != -1:\n",
    "        for j in range(seq_idx, seq_idx+len(wrds)):\n",
    "            featureTagSeq.append(allTags[j])\n",
    "            # print(\"j =\" + str(j))\n",
    "            # print(allTags[j])\n",
    "    else:\n",
    "        foundTags = fme.getSimilarMeaningListOfWords(wrds)\n",
    "        if foundTags:\n",
    "            featureTagSeq = foundTags\n",
    "            \n",
    "    if not featureTagSeq:\n",
    "        evalResult.append(str(lidx+1) + '\\t' + ph.replace(' ','_') + '\\t' + '0')\n",
    "        fm_features[lidx+1] = -1\n",
    "    else:\n",
    "        evalResult.append(str(lidx+1) + '\\t' + ph.replace(' ','_') + '\\t' + str(ra.PredictFeatureProbability(featureTagSeq)))\n",
    "        fm_features[lidx+1] = fme.getFeatureIndex(ph)\n",
    "\n",
    "# Update the FM file with Feature evaluation\n",
    "with open('Lit-Eshop-FM-Feval.txt','w') as f:\n",
    "    f.write('\\n'.join(evalResult))\n",
    "    \n",
    "# Evaluate relations\n",
    "allFmRelations = []\n",
    "for senIdx in range(relationsStart, len(fm2)):\n",
    "    relation1 = fm2[senIdx].strip('\\n').split('\\t')\n",
    "    f1 = relation1[0]\n",
    "    f2 = relation1[1]\n",
    "    rType = relation1[2]\n",
    "    rEvalType = 'O'\n",
    "    relScore = 0\n",
    "    if fm_features[int(f1)] != -1 and fm_features[int(f2)] != -1:\n",
    "        f1_score = Rt[int(fm_features[int(f1)])]\n",
    "        f2_score = Rt[int(fm_features[int(f2)])]\n",
    "        \n",
    "        if f1_score >= 0.900 and f2_score >= 0.900:\n",
    "            rEvalType = 'M'\n",
    "            \n",
    "        relScore = f1_score * f2_score            \n",
    "    else:\n",
    "        relScore = '0'\n",
    "        \n",
    "    allFmRelations.append(f1 + '\\t' + f2 + '\\t' + rType + '\\t' + str(relScore) + '\\t' + rEvalType)\n",
    " \n",
    " # Update the FM file with Feature evaluation\n",
    "with open('Lit-Eshop-FM-Feval.txt','a') as f:\n",
    "    f.write('\\n\\n')\n",
    "    f.write('\\n'.join(allFmRelations))"
   ]
  },
  {
   "cell_type": "code",
   "execution_count": null,
   "metadata": {},
   "outputs": [],
   "source": []
  }
 ],
 "metadata": {
  "kernelspec": {
   "display_name": "Python 3",
   "language": "python",
   "name": "python3"
  },
  "language_info": {
   "codemirror_mode": {
    "name": "ipython",
    "version": 3
   },
   "file_extension": ".py",
   "mimetype": "text/x-python",
   "name": "python",
   "nbconvert_exporter": "python",
   "pygments_lexer": "ipython3",
   "version": "3.7.1"
  }
 },
 "nbformat": 4,
 "nbformat_minor": 2
}
